{
 "cells": [
  {
   "cell_type": "code",
   "execution_count": 1,
   "id": "devoted-region",
   "metadata": {},
   "outputs": [],
   "source": [
    "from sympy import *"
   ]
  },
  {
   "cell_type": "code",
   "execution_count": 2,
   "id": "potential-press",
   "metadata": {},
   "outputs": [],
   "source": [
    "import numpy as np"
   ]
  },
  {
   "cell_type": "code",
   "execution_count": 3,
   "id": "vulnerable-technology",
   "metadata": {},
   "outputs": [],
   "source": [
    "import matplotlib.pyplot as plt"
   ]
  },
  {
   "cell_type": "code",
   "execution_count": 4,
   "id": "olive-constant",
   "metadata": {},
   "outputs": [],
   "source": [
    "x,t = symbols('x t') "
   ]
  },
  {
   "cell_type": "code",
   "execution_count": 5,
   "id": "spoken-renewal",
   "metadata": {},
   "outputs": [],
   "source": [
    "L = 20\n",
    "T = 18"
   ]
  },
  {
   "cell_type": "code",
   "execution_count": 6,
   "id": "cleared-laser",
   "metadata": {},
   "outputs": [],
   "source": [
    "f_init = cos(4*np.pi*x/L)\n",
    "f_bord = cos(t)"
   ]
  },
  {
   "cell_type": "code",
   "execution_count": 7,
   "id": "stylish-rover",
   "metadata": {},
   "outputs": [
    {
     "data": {
      "text/plain": [
       "4"
      ]
     },
     "execution_count": 7,
     "metadata": {},
     "output_type": "execute_result"
    }
   ],
   "source": [
    "int(4.5)"
   ]
  },
  {
   "cell_type": "code",
   "execution_count": 8,
   "id": "innocent-chassis",
   "metadata": {},
   "outputs": [],
   "source": [
    "class equation:\n",
    "    def __init__(self, bord_cond, init_cond, L, T, h, curr ):\n",
    "        self.bord_cond = lambdify(t, bord_cond)\n",
    "        self.init_cond = lambdify(x, init_cond)\n",
    "        self.L = L\n",
    "        self.T = T\n",
    "        self.h = h\n",
    "        self.curr = curr\n",
    "        self.tau = curr*h\n",
    "        self.x_steps = int(L/self.h)\n",
    "        self.t_steps = int(T/self.tau)\n",
    "        self.generate_grid()\n",
    "        self.fill_conds()\n",
    "    def generate_grid(self):\n",
    "        self.matrix = np.zeros([int(self.T/self.tau), int(self.L/self.h)])\n",
    "    def fill_conds(self):\n",
    "        for i in range(len(self.matrix[0])):\n",
    "            self.matrix[0][i] = self.bord_cond(self.tau*i)\n",
    "        for j in range(len(self.matrix)):\n",
    "            self.matrix[j][0] = self.init_cond(self.h*j)\n",
    "    def count_matrix2(self):\n",
    "        for i in range(1, self.t_steps):\n",
    "            for j in range(1, self.x_steps - 1):\n",
    "                self.matrix[i][j] = self.matrix[i - 1][j] \\\n",
    "                + (self.tau)**2/2*(self.matrix[i-1][j+1] - 2*self.matrix[i-1][j] + self.matrix[i-1][j-1])/(self.h)**2 \\\n",
    "                - self.tau*(self.matrix[i - 1][j+1] - self.matrix[i - 1][j - 1])/2/self.h\n",
    "            j = self.x_steps - 1\n",
    "            self.matrix[i][j] = self.matrix[i - 1][j] \\\n",
    "                + (self.tau)**2/2*(self.matrix[i-1][0] - 2*self.matrix[i-1][j] + self.matrix[i-1][j-1])/(self.h)**2 \\\n",
    "                - self.tau*(self.matrix[i - 1][0] - self.matrix[i - 1][j - 1])/2/self.h                                                               \n",
    " \n",
    "    def count_matrix(self):\n",
    "        for i in range(1, self.t_steps):\n",
    "            for j in range(1, self.x_steps):\n",
    "                self.matrix[i][j] = self.matrix[i - 1][j] - self.tau/self.h*(self.matrix[i - 1][j] - self.matrix[i - 1][j - 1])\n",
    "             "
   ]
  },
  {
   "cell_type": "code",
   "execution_count": 14,
   "id": "representative-lebanon",
   "metadata": {},
   "outputs": [],
   "source": [
    "eq1 = equation(f_bord, f_init, L=20, T=18, h=0.5, curr=1.5)"
   ]
  },
  {
   "cell_type": "code",
   "execution_count": 17,
   "id": "wrapped-healing",
   "metadata": {},
   "outputs": [
    {
     "data": {
      "text/plain": [
       "array([[ 1.        ,  0.95533649,  0.82533561, ...,  0.10423603,\n",
       "         0.39349087,  0.64759634],\n",
       "       [ 0.95105652,  0.99237508,  0.91218311, ..., -0.0737862 ,\n",
       "         0.22415589,  0.48333727],\n",
       "       [ 0.80901699,  0.98216521,  0.9700762 , ..., -0.24938773,\n",
       "         0.05004192,  0.3028039 ],\n",
       "       ...,\n",
       "       [ 0.58778525,  0.08831782, -0.43190686, ...,  0.57256666,\n",
       "         0.33920805, -0.12269448],\n",
       "       [ 0.80901699,  0.39048915, -0.13496224, ...,  0.69449991,\n",
       "         0.50664849,  0.01376117],\n",
       "       [ 0.95105652,  0.65443668,  0.17519343, ...,  0.78874881,\n",
       "         0.65596365,  0.15491638]])"
      ]
     },
     "execution_count": 17,
     "metadata": {},
     "output_type": "execute_result"
    }
   ],
   "source": [
    "eq2 = equation(f_bord, f_init, L=20, T=18, h=0.5, curr=0.6)\n",
    "eq2.generate_grid()\n",
    "eq2.fill_conds()\n",
    "eq2.count_matrix2()\n",
    "eq2.matrix"
   ]
  },
  {
   "cell_type": "code",
   "execution_count": 40,
   "id": "variable-oklahoma",
   "metadata": {},
   "outputs": [],
   "source": [
    "eq1.count_matrix2()"
   ]
  },
  {
   "cell_type": "code",
   "execution_count": 18,
   "id": "exempt-webster",
   "metadata": {},
   "outputs": [
    {
     "data": {
      "text/plain": [
       "array([[ 1.00000000e+00,  7.31688869e-01,  7.07372017e-02,\n",
       "        -6.28173623e-01, -9.89992497e-01, -8.20559357e-01,\n",
       "        -2.10795799e-01,  5.12085477e-01,  9.60170287e-01,\n",
       "         8.93006345e-01,  3.46635318e-01, -3.85747937e-01,\n",
       "        -9.11130262e-01, -9.47579804e-01, -4.75536928e-01,\n",
       "         2.51689650e-01,  8.43853959e-01,  9.83187447e-01,\n",
       "         5.94920663e-01, -1.12593793e-01, -7.59687913e-01,\n",
       "        -9.99116587e-01, -7.02397058e-01, -2.87556303e-02,\n",
       "         6.60316708e-01,  9.95048401e-01,  7.95814970e-01,\n",
       "         1.69529509e-01, -5.47729260e-01, -9.71064315e-01,\n",
       "        -8.73304640e-01, -3.06910254e-01,  4.24179007e-01,\n",
       "         9.27644370e-01,  9.33315112e-01,  4.38148187e-01,\n",
       "        -2.92138809e-01, -8.65657616e-01, -9.74645276e-01,\n",
       "        -5.60616582e-01],\n",
       "       [ 9.51056516e-01,  9.86915365e-01,  1.04793002e+00,\n",
       "         5.46602095e-01, -2.48044681e-01, -9.09585159e-01,\n",
       "        -1.08302199e+00, -6.75285113e-01,  9.48247908e-02,\n",
       "         8.14049601e-01,  1.09643727e+00,  7.90452295e-01,\n",
       "         6.02930181e-02, -7.02220834e-01, -1.08790735e+00,\n",
       "        -8.89798568e-01, -2.14204062e-01,  5.76337113e-01,\n",
       "         1.05760296e+00,  9.71335517e-01,  3.63827810e-01,\n",
       "        -4.38918000e-01, -1.00613064e+00, -1.03343118e+00,\n",
       "        -5.06169542e-01,  2.92713940e-01,  9.34520606e-01,\n",
       "         1.07484271e+00,  6.38380287e-01, -1.40651209e-01,\n",
       "        -8.44206135e-01, -1.09474126e+00, -7.57813846e-01,\n",
       "        -1.42266565e-02,  7.36994874e-01,  1.09272855e+00,\n",
       "         8.62079756e-01,  1.68819776e-01, -6.15032655e-01,\n",
       "        -7.51689164e-01],\n",
       "       [ 8.09016994e-01,  9.42560519e-01,  7.45529571e-01,\n",
       "         1.18859941e+00,  9.93840345e-01,  2.65764426e-01,\n",
       "        -6.04926601e-01, -1.15100055e+00, -1.07942198e+00,\n",
       "        -4.28601541e-01,  4.52216021e-01,  1.09036440e+00,\n",
       "         1.14339897e+00,  5.82860194e-01, -2.90454335e-01,\n",
       "        -1.00790460e+00, -1.18449082e+00, -7.25452896e-01,\n",
       "         1.22879203e-01,  9.05271586e-01,  1.20187508e+00,\n",
       "         8.53525653e-01,  4.71553575e-02, -7.84519553e-01,\n",
       "        -1.19520381e+00, -9.64515089e-01, -2.16246103e-01,\n",
       "         6.48065356e-01,  1.16461052e+00,  1.05619975e+00,\n",
       "         3.81008681e-01, -4.98640127e-01, -1.11070754e+00,\n",
       "        -1.12674456e+00, -5.38145368e-01,  3.39234612e-01,\n",
       "         1.03457375e+00,  1.17473758e+00,  8.03444461e-01,\n",
       "         1.43071422e-01],\n",
       "       [ 5.87785252e-01,  6.18279804e-01,  1.28111379e+00,\n",
       "         2.84808812e-01,  1.08598512e+00,  1.30439764e+00,\n",
       "         8.22841344e-01, -1.00269935e-01, -9.69574134e-01,\n",
       "        -1.31858327e+00, -9.60011267e-01, -8.62758467e-02,\n",
       "         8.33757113e-01,  1.30637744e+00,  1.07796656e+00,\n",
       "         2.71094816e-01, -6.81252438e-01, -1.26802447e+00,\n",
       "        -1.17434634e+00, -4.50487821e-01,  5.15112490e-01,\n",
       "         1.20429197e+00,  1.24722157e+00,  6.20864309e-01,\n",
       "        -3.38662563e-01, -1.11645556e+00, -1.29513365e+00,\n",
       "        -7.78814194e-01,  1.55434302e-01,  1.00627329e+00,\n",
       "         1.31712363e+00,  9.21176107e-01,  3.09049782e-02,\n",
       "        -8.75950450e-01, -1.31275137e+00, -1.04510067e+00,\n",
       "        -2.16625694e-01,  7.72695477e-01,  1.25197916e+00,\n",
       "         1.63100046e+00],\n",
       "       [ 3.09016994e-01,  8.09665263e-01, -3.35314298e-01,\n",
       "         2.45332176e+00, -3.34315765e-01,  7.14290559e-01,\n",
       "         1.37959267e+00,  1.30457464e+00,  5.29492815e-01,\n",
       "        -5.29726641e-01, -1.30468299e+00, -1.37951740e+00,\n",
       "        -7.14072062e-01,  3.34560240e-01,  1.20366007e+00,\n",
       "         1.42684911e+00,  8.84359152e-01, -1.32697614e-01,\n",
       "        -1.07854589e+00, -1.44562242e+00, -1.03694579e+00,\n",
       "        -7.18209564e-02,  9.31844599e-01,  1.43546160e+00,\n",
       "         1.16877795e+00,  2.74902030e-01, -7.66492437e-01,\n",
       "        -1.39657000e+00, -1.27721701e+00, -4.72480937e-01,\n",
       "         5.85798923e-01,  1.32972604e+00,  1.36009256e+00,\n",
       "         6.60603135e-01, -3.93380639e-01, -1.23626760e+00,\n",
       "        -1.39902084e+00, -9.02550337e-01,  4.95455237e-01,\n",
       "         5.29129827e-01],\n",
       "       [-8.26946080e-16, -5.58417576e-01,  2.85726090e+00,\n",
       "        -3.82073492e+00,  5.28573197e+00, -1.00235801e+00,\n",
       "         1.04019453e-01,  1.15457776e+00,  1.58556394e+00,\n",
       "         1.16570121e+00,  1.20297259e-01, -9.89660878e-01,\n",
       "        -1.56854496e+00, -1.30571289e+00, -3.42206221e-01,\n",
       "         8.04935925e-01,  1.52013153e+00,  1.41959072e+00,\n",
       "         5.57265923e-01, -6.04100175e-01, -1.44129267e+00,\n",
       "        -1.50505543e+00, -7.61171943e-01,  3.91173356e-01,\n",
       "         1.33360632e+00,  1.56039645e+00,  9.49843102e-01,\n",
       "        -1.70417199e-01, -1.19922784e+00, -1.58450612e+00,\n",
       "        -1.11950314e+00, -5.37498586e-02,  1.04084680e+00,\n",
       "         1.57690189e+00,  1.26675632e+00,  2.83112991e-01,\n",
       "        -9.07682081e-01, -1.30918045e+00, -2.11317724e+00,\n",
       "         3.83447659e-01],\n",
       "       [-3.09016994e-01,  1.76949481e+00, -6.05138468e+00,\n",
       "         1.21154323e+01, -1.41469272e+01,  1.12027022e+01,\n",
       "        -1.57647892e+00, -6.53599249e-01,  6.20016331e-01,\n",
       "         1.56091735e+00,  1.66419536e+00,  8.74429100e-01,\n",
       "        -3.84575285e-01, -1.43720801e+00, -1.71860292e+00,\n",
       "        -1.07775725e+00,  1.41436962e-01,  1.28473295e+00,\n",
       "         1.73861263e+00,  1.25951407e+00,  1.04532222e-01,\n",
       "        -1.10654395e+00, -1.72382400e+00, -1.41606172e+00,\n",
       "        -3.48409194e-01,  9.06207459e-01,  1.67453302e+00,\n",
       "         1.54426688e+00,  5.85312753e-01, -6.87733224e-01,\n",
       "        -1.59172624e+00, -1.64156352e+00, -8.10501274e-01,\n",
       "         4.55494004e-01,  1.47941301e+00,  1.68089609e+00,\n",
       "         1.17449679e+00, -8.57869811e-01,  3.30551090e-01,\n",
       "        -4.44151690e+00],\n",
       "       [-5.87785252e-01, -5.06054463e+00,  1.54253207e+01,\n",
       "        -3.17957344e+01,  4.46011079e+01, -4.11200459e+01,\n",
       "         2.27305656e+01, -1.90639279e+00, -1.41517500e+00,\n",
       "        -1.64542800e-01,  1.17438673e+00,  1.88311420e+00,\n",
       "         1.58132066e+00,  4.30955258e-01, -9.50670335e-01,\n",
       "        -1.82214506e+00, -1.71581618e+00, -6.88742143e-01,\n",
       "         7.07926264e-01,  1.72470568e+00,  1.81596963e+00,\n",
       "         9.32743849e-01, -4.51013044e-01, -1.59274630e+00,\n",
       "        -1.87977643e+00, -1.15807668e+00,  1.85072795e-01,\n",
       "         1.42890809e+00,  1.90595949e+00,  1.36023060e+00,\n",
       "         8.45716867e-02, -1.23647028e+00, -1.89399476e+00,\n",
       "        -1.53427751e+00, -3.64878975e-01,  1.11321558e+00,\n",
       "         1.36185800e+00,  3.39847541e+00, -3.68726360e+00,\n",
       "         6.05579805e+00],\n",
       "       [-8.09016994e-01,  1.10080787e+01, -4.06935725e+01,\n",
       "         8.53925598e+01, -1.30788404e+02,  1.43551097e+02,\n",
       "        -1.06228190e+02,  4.44721109e+01, -1.86722128e+00,\n",
       "        -2.00737960e+00, -1.07033334e+00,  4.41077623e-01,\n",
       "         1.71579651e+00,  2.06978080e+00,  1.31307463e+00,\n",
       "        -1.48256620e-01, -1.53003006e+00, -2.09075532e+00,\n",
       "        -1.52953472e+00, -1.47531741e-01,  1.31364005e+00,\n",
       "         2.06988335e+00,  1.71538116e+00,  4.40367253e-01,\n",
       "        -1.07095753e+00, -2.00758266e+00, -1.86689424e+00,\n",
       "        -7.24388811e-01,  8.06839778e-01,  1.90510018e+00,\n",
       "         1.98104141e+00,  9.93911723e-01, -5.26242382e-01,\n",
       "        -1.77022291e+00, -2.00321577e+00, -1.56497081e+00,\n",
       "         1.65938500e+00, -3.07733436e+00,  1.32521452e+01,\n",
       "        -1.47037863e+01],\n",
       "       [-9.51056516e-01, -3.05370949e+01,  1.03529323e+02,\n",
       "        -2.32086800e+02,  3.77428216e+02, -4.64502700e+02,\n",
       "         4.18620586e+02, -2.55468204e+02,  8.49664673e+01,\n",
       "        -1.39319041e+00, -2.26051598e+00, -1.91479835e+00,\n",
       "        -5.41557300e-01,  1.12229545e+00,  2.18389948e+00,\n",
       "         2.07357443e+00,  8.50523176e-01, -8.28937747e-01,\n",
       "        -2.06357222e+00, -2.19084790e+00, -1.14246582e+00,\n",
       "         5.18988847e-01,  1.90194255e+00,  2.26427154e+00,\n",
       "         1.41154201e+00, -1.98652382e-01, -1.70224549e+00,\n",
       "        -2.29237577e+00, -1.65236618e+00, -1.25660111e-01,\n",
       "         1.46847797e+00,  2.27472211e+00,  1.85755387e+00,\n",
       "         4.74868252e-01, -1.40201229e+00, -1.17754669e+00,\n",
       "        -6.16255190e+00,  1.19275693e+01, -2.78491032e+01,\n",
       "         4.29241236e+01],\n",
       "       [-1.00000000e+00,  7.52116339e+01, -2.73701257e+02,\n",
       "         6.25761562e+02, -1.08113653e+03,  1.44528900e+03,\n",
       "        -1.49001887e+03,  1.13611128e+03, -5.85733412e+02,\n",
       "         1.60205921e+02, -5.04636422e-01, -2.04805351e+00,\n",
       "        -2.49243948e+00, -1.59932695e+00,  1.52020033e-01,\n",
       "         1.82178968e+00,  2.51394643e+00,  1.85706356e+00,\n",
       "         2.03639038e-01, -1.55906272e+00, -2.48513672e+00,\n",
       "        -2.07763102e+00, -5.55222272e-01,  1.26513111e+00,\n",
       "         2.40658698e+00,  2.25661469e+00,  8.95692728e-01,\n",
       "        -9.45877895e-01, -2.27986938e+00, -2.39043220e+00,\n",
       "        -1.21818938e+00,  6.06576257e-01,  2.12123721e+00,\n",
       "         2.36357358e+00,  2.20131332e+00, -3.46779663e+00,\n",
       "         9.96812829e+00, -3.69076601e+01,  7.32721177e+01,\n",
       "        -1.06228869e+02],\n",
       "       [-9.51056516e-01, -1.98527514e+02,  7.17808970e+02,\n",
       "        -1.70081801e+03,  3.06670697e+03, -4.39249932e+03,\n",
       "         4.99848219e+03, -4.43357451e+03,  2.92245263e+03,\n",
       "        -1.29869679e+03,  3.00248877e+02,  6.79208784e-01,\n",
       "        -1.32429857e+00, -2.61715784e+00, -2.50559194e+00,\n",
       "        -1.04946963e+00,  9.69821449e-01,  2.46868475e+00,\n",
       "         2.64279685e+00,  1.39872533e+00, -5.95933342e-01,\n",
       "        -2.27080091e+00, -2.72710616e+00, -1.71998553e+00,\n",
       "         2.10117624e-01,  2.02746699e+00,  2.75683243e+00,\n",
       "         2.00682022e+00,  1.79903599e-01, -1.74353585e+00,\n",
       "        -2.73185756e+00, -2.24686145e+00, -6.27875934e-01,\n",
       "         1.84834528e+00,  3.79635079e-01,  1.22002564e+01,\n",
       "        -3.28026516e+01,  9.23018598e+01, -2.00627836e+02,\n",
       "         2.69796307e+02],\n",
       "       [-8.09016994e-01,  5.15554525e+02, -1.90730705e+03,\n",
       "         4.62192944e+03, -8.66960472e+03,  1.31151305e+04,\n",
       "        -1.61466294e+04,  1.60100420e+04, -1.24530293e+04,\n",
       "         7.21556300e+03, -2.81011287e+03,  5.61621021e+02,\n",
       "         1.94745550e+00, -1.51209509e-01, -2.16873213e+00,\n",
       "        -3.02246481e+00, -2.25427558e+00, -2.76391897e-01,\n",
       "         1.84980984e+00,  2.98336243e+00,  2.51597633e+00,\n",
       "         6.98461316e-01, -1.49386359e+00, -2.88454803e+00,\n",
       "        -2.72731979e+00, -1.10655103e+00,  1.10801765e+00,\n",
       "         2.72799938e+00,  2.88408246e+00,  1.49229248e+00,\n",
       "        -6.96880815e-01, -2.54910959e+00, -2.73489083e+00,\n",
       "        -3.34533582e+00,  7.56619969e+00, -2.68394990e+01,\n",
       "         9.84919926e+01, -2.52117735e+02,  5.25024397e+02,\n",
       "        -7.13779222e+02],\n",
       "       [-5.87785252e-01, -1.36120021e+03,  5.08402209e+03,\n",
       "        -1.26047143e+04,  2.44212976e+04, -3.87044081e+04,\n",
       "         5.07779223e+04, -5.49573686e+04,  4.82909515e+04,\n",
       "        -3.34226760e+04,  1.72524296e+04, -5.97025761e+03,\n",
       "         1.05054839e+03,  3.02721640e+00,  1.29397303e+00,\n",
       "        -1.13364508e+00, -2.95292400e+00, -3.18759816e+00,\n",
       "        -1.71173619e+00,  6.82681528e-01,  2.71075714e+00,\n",
       "         3.28418012e+00,  2.09523894e+00, -2.18054105e-01,\n",
       "        -2.41433446e+00, -3.31502920e+00, -2.43680547e+00,\n",
       "        -2.50935220e-01,  2.06950545e+00,  3.28095871e+00,\n",
       "         2.71323332e+00,  8.54151403e-01, -2.61546789e+00,\n",
       "         1.89107436e+00, -2.57950664e+01,  8.46704954e+01,\n",
       "        -2.67983202e+02,  6.96703804e+02, -1.39666846e+03,\n",
       "         1.87634139e+03],\n",
       "       [-3.09016994e-01,  3.60690645e+03, -1.36340459e+04,\n",
       "         3.44464209e+04, -6.86746143e+04,  1.13212164e+05,\n",
       "        -1.56652181e+05,  1.82014422e+05, -1.75942259e+05,\n",
       "         1.38793540e+05, -8.64719011e+04,  4.02050831e+04,\n",
       "        -1.25062833e+04,  1.96647945e+03,  3.63344756e+00,\n",
       "         2.73590927e+00,  3.70221169e-01, -2.19413586e+00,\n",
       "        -3.58107074e+00, -3.04632334e+00, -8.76851013e-01,\n",
       "         1.76315908e+00,  3.45701877e+00,  3.29576522e+00,\n",
       "         1.36593068e+00, -1.29689267e+00, -3.26377362e+00,\n",
       "        -3.47927668e+00, -1.82702583e+00,  7.96586815e-01,\n",
       "         3.08056272e+00,  3.03882276e+00,  5.58002162e+00,\n",
       "        -1.69409951e+01,  6.75410332e+01, -2.54697570e+02,\n",
       "         7.55000108e+02, -1.89709893e+03,  3.75578323e+03,\n",
       "        -4.96440052e+03],\n",
       "       [ 2.48083824e-15, -9.62197967e+03,  3.67229148e+04,\n",
       "        -9.43748425e+04,  1.92884868e+05, -3.29024675e+05,\n",
       "         4.76343442e+05, -5.87219214e+05,  6.13252442e+05,\n",
       "        -5.35810624e+05,  3.83404670e+05, -2.17081025e+05,\n",
       "         9.17548148e+04, -2.59060180e+04,  3.68363313e+03,\n",
       "         3.53166052e+00,  3.84425248e+00,  2.09393299e+00,\n",
       "        -7.80037570e-01, -3.23542259e+00, -3.95460784e+00,\n",
       "        -2.55166247e+00,  2.20561782e-01,  2.87442767e+00,\n",
       "         3.98581168e+00,  2.95832075e+00,  3.43314518e-01,\n",
       "        -2.45561437e+00, -3.94114143e+00, -3.26619593e+00,\n",
       "        -1.21754458e+00,  4.07003476e+00, -7.63010754e+00,\n",
       "         5.69666719e+01, -2.11702246e+02,  7.28136440e+02,\n",
       "        -2.13272018e+03,  5.19541757e+03, -1.01134397e+04,\n",
       "         1.32474783e+04],\n",
       "       [ 3.09016994e-01,  2.57985676e+04, -9.93354212e+04,\n",
       "         2.59155844e+05, -5.41443168e+05,  9.51568762e+05,\n",
       "        -1.43255777e+06,  1.85713764e+06, -2.06853056e+06,\n",
       "         1.96338836e+06, -1.56530614e+06,  1.02464309e+06,\n",
       "        -5.31435197e+05,  2.05804163e+05, -5.31770007e+04,\n",
       "         6.90383914e+03,  2.60177275e+00,  4.29804307e+00,\n",
       "         3.68788785e+00,  1.09872986e+00, -2.08003099e+00,\n",
       "        -4.14260094e+00, -3.98215898e+00, -1.68480187e+00,\n",
       "         1.51665756e+00,  3.90423891e+00,  4.19685287e+00,\n",
       "         2.23530465e+00, -9.02673633e-01, -3.76347449e+00,\n",
       "        -3.07592361e+00, -1.02317299e+01,  3.85314516e+01,\n",
       "        -1.64903134e+02,  6.44491482e+02, -2.10688233e+03,\n",
       "         5.97943763e+03, -1.42856622e+04,  2.73510120e+04,\n",
       "        -3.55220474e+04],\n",
       "       [ 5.87785252e-01, -6.94984131e+04,  2.69725032e+05,\n",
       "        -7.13239908e+05,  1.51955945e+06, -2.74187606e+06,\n",
       "         4.27131526e+06, -5.78316683e+06,  6.80406691e+06,\n",
       "        -6.91972006e+06,  6.02222701e+06, -4.41504108e+06,\n",
       "         2.66267636e+06, -1.27363757e+06,  4.54942996e+05,\n",
       "        -1.08335700e+05,  1.29430579e+04,  8.88728011e-01,\n",
       "         3.86099464e+00,  4.76136577e+00,  3.10668188e+00,\n",
       "        -2.15116554e-01, -3.42147874e+00, -4.79179916e+00,\n",
       "        -3.59073587e+00, -4.62745870e-01,  2.91262110e+00,\n",
       "         4.73646572e+00,  3.90823532e+00,  1.85835870e+00,\n",
       "        -7.04850886e+00,  2.14715999e+01, -1.29187483e+02,\n",
       "         5.20059695e+02, -1.90488860e+03,  6.08431355e+03,\n",
       "        -1.67818247e+04,  3.93251528e+04, -7.42951493e+04,\n",
       "         9.56858225e+04],\n",
       "       [ 8.09016994e-01,  1.88021006e+05, -7.34930780e+05,\n",
       "         1.96711912e+06, -4.26497767e+06,  7.87826227e+06,\n",
       "        -1.26488492e+07,  1.77891997e+07, -2.19434165e+07,\n",
       "         2.36656107e+07, -2.21578993e+07,  1.78089806e+07,\n",
       "        -1.20841616e+07,  6.75516876e+06, -2.99737508e+06,\n",
       "         9.93291388e+05, -2.19307926e+05,  2.42685706e+04,\n",
       "        -1.37436612e+00,  2.45266345e+00,  4.96353977e+00,\n",
       "         4.81086968e+00,  2.07658020e+00, -1.77204964e+00,\n",
       "        -4.66973330e+00, -5.06196450e+00, -2.73225023e+00,\n",
       "         1.00617066e+00,  4.69246357e+00,  2.36180204e+00,\n",
       "         2.03469086e+01, -8.85007602e+01,  3.96765989e+02,\n",
       "        -1.60663437e+03,  5.63784026e+03, -1.74702423e+04,\n",
       "         4.71323011e+04, -1.08483043e+05,  2.02485782e+05,\n",
       "        -2.58910463e+05],\n",
       "       [ 9.51056516e-01, -5.10623783e+05,  2.00887253e+06,\n",
       "        -5.43626073e+06,  1.19739188e+07, -2.25879794e+07,\n",
       "         3.72537532e+07, -5.41818732e+07,  6.96586241e+07,\n",
       "        -7.90351314e+07,  7.87487618e+07, -6.83388475e+07,\n",
       "         5.10302289e+07, -3.22257795e+07,  1.67851445e+07,\n",
       "        -6.94393298e+06,  2.14565697e+06, -4.41538590e+05,\n",
       "         4.55062076e+04, -3.78143837e+00,  1.98395384e-01,\n",
       "         4.07176754e+00,  5.76013679e+00,  4.35749994e+00,\n",
       "         6.16336867e-01, -3.45288814e+00, -5.69855665e+00,\n",
       "        -4.62100867e+00, -3.09333372e+00,  1.34762074e+01,\n",
       "        -5.41930420e+01,  2.97563650e+02, -1.26438430e+03,\n",
       "         4.86641930e+03, -1.66110807e+04,  5.00833663e+04,\n",
       "        -1.32353222e+05,  2.99909037e+05, -5.53604357e+05,\n",
       "         7.03299222e+05],\n",
       "       [ 1.00000000e+00,  1.39160871e+06, -5.50710803e+06,\n",
       "         1.50521814e+07, -3.36308796e+07,  6.46562294e+07,\n",
       "        -1.09237855e+08,  1.63700113e+08, -2.18302467e+08,\n",
       "         2.58934620e+08, -2.72253892e+08,  2.52213824e+08,\n",
       "        -2.04007793e+08,  1.42258333e+08, -8.40087422e+07,\n",
       "         4.09566836e+07, -1.58675225e+07,  4.59209489e+06,\n",
       "        -8.84769033e+05,  8.53289404e+04, -5.81127835e+00,\n",
       "        -2.55766678e+00,  2.06845562e+00,  5.58450788e+00,\n",
       "         6.10505824e+00,  3.33478306e+00, -1.08384771e+00,\n",
       "        -6.06853303e+00,  2.55853663e-01, -4.29676507e+01,\n",
       "         2.04595560e+02, -9.47710629e+02,  3.96331946e+03,\n",
       "        -1.46828999e+04,  4.86696494e+04, -1.43382442e+05,\n",
       "         3.71813728e+05, -8.30650221e+05,  1.51807210e+06,\n",
       "        -1.91713184e+06],\n",
       "       [ 9.51056516e-01, -3.80467452e+06,  1.51377194e+07,\n",
       "        -4.17526342e+07,  9.45075258e+07, -1.84842382e+08,\n",
       "         3.19165292e+08, -4.91309545e+08,  6.76916277e+08,\n",
       "        -8.35080610e+08,  9.20399961e+08, -9.02246249e+08,\n",
       "         7.81257535e+08, -5.91840806e+08,  3.87104058e+08,\n",
       "        -2.14662567e+08,  9.83502205e+07, -3.58235117e+07,\n",
       "         9.74813756e+06, -1.76560529e+06,  1.59998068e+05,\n",
       "        -6.92339257e+00, -5.28700429e+00, -8.12883716e-01,\n",
       "         4.09017312e+00,  6.87206249e+00,  5.33182798e+00,\n",
       "         5.64939696e+00, -2.78111855e+01,  1.30912624e+02,\n",
       "        -6.91700281e+02,  3.05449976e+03, -1.22371942e+04,\n",
       "         4.40359674e+04, -1.42135915e+05,  4.09913794e+05,\n",
       "        -1.04510307e+06,  2.30474055e+06, -4.17398373e+06,\n",
       "         5.24280036e+06],\n",
       "       [ 8.09016994e-01,  1.04324897e+07, -4.17131518e+07,\n",
       "         1.16014339e+08, -2.65736490e+08,  5.27941573e+08,\n",
       "        -9.29777160e+08,  1.46641546e+09, -2.08050597e+09,\n",
       "         2.65821877e+09, -3.05461844e+09,  3.14652931e+09,\n",
       "        -2.89022394e+09,  2.34982291e+09, -1.67408005e+09,\n",
       "         1.03102965e+09, -5.38863906e+08,  2.32841605e+08,\n",
       "        -8.00163584e+07,  2.05447638e+07, -3.51051010e+06,\n",
       "         3.00003049e+05, -6.67743710e+00, -7.36321348e+00,\n",
       "        -4.05984994e+00,  1.07843199e+00,  8.33885605e+00,\n",
       "        -7.49376330e+00,  9.44488352e+01, -4.75174358e+02,\n",
       "         2.25552393e+03, -9.70401056e+03,  3.75371676e+04,\n",
       "        -1.31290667e+05,  4.13955005e+05, -1.17081074e+06,\n",
       "         2.93924491e+06, -6.40573785e+06,  1.15049183e+07,\n",
       "        -1.43797196e+07],\n",
       "       [ 5.87785252e-01, -2.86830426e+07,  1.15207735e+08,\n",
       "        -3.22881267e+08,  7.47675587e+08, -1.50684932e+09,\n",
       "         2.70201769e+09, -4.35654124e+09,  6.34699348e+09,\n",
       "        -8.36920407e+09,  9.98238173e+09, -1.07444052e+10,\n",
       "         1.03937060e+10, -8.98422853e+09,  6.88515413e+09,\n",
       "        -4.62976111e+09,  2.69407608e+09, -1.33142796e+09,\n",
       "         5.44302743e+08, -1.77028068e+08,  4.30220709e+07,\n",
       "        -6.95721276e+06,  5.62511303e+05, -4.83862144e+00,\n",
       "        -8.32680085e+00, -5.83318760e+00, -1.12116713e+01,\n",
       "         6.04208724e+01, -3.10302235e+02,  1.61688099e+03,\n",
       "        -7.34936080e+03,  3.04355584e+04, -1.14350479e+05,\n",
       "         3.89728649e+05, -1.20266778e+06,  3.34189590e+06,\n",
       "        -8.27147796e+06,  1.78326009e+07, -3.17843012e+07,\n",
       "         3.95463717e+07]])"
      ]
     },
     "execution_count": 18,
     "metadata": {},
     "output_type": "execute_result"
    }
   ],
   "source": [
    "eq1.generate_grid()\n",
    "eq1.fill_conds()\n",
    "eq1.count_matrix2()\n",
    "eq1.matrix"
   ]
  },
  {
   "cell_type": "code",
   "execution_count": 66,
   "id": "clean-hayes",
   "metadata": {},
   "outputs": [
    {
     "name": "stdout",
     "output_type": "stream",
     "text": [
      "1.0 1.0\n"
     ]
    }
   ],
   "source": [
    "f1 = lambdify(t, f_bord)\n",
    "f2 = lambdify(x, f_init)\n",
    "print(f1(0), f2(0))"
   ]
  },
  {
   "cell_type": "code",
   "execution_count": 116,
   "id": "tender-turner",
   "metadata": {},
   "outputs": [
    {
     "data": {
      "text/plain": [
       "array([0.30901699, 0.        , 0.        , 0.        , 0.        ,\n",
       "       0.        , 0.        , 0.        , 0.        , 0.        ,\n",
       "       0.        , 0.        , 0.        , 0.        , 0.        ,\n",
       "       0.        , 0.        , 0.        , 0.        , 0.        ,\n",
       "       0.        , 0.        , 0.        , 0.        , 0.        ,\n",
       "       0.        , 0.        , 0.        , 0.        , 0.        ,\n",
       "       0.        , 0.        , 0.        , 0.        , 0.        ,\n",
       "       0.        , 0.        , 0.        , 0.        , 0.        ])"
      ]
     },
     "execution_count": 116,
     "metadata": {},
     "output_type": "execute_result"
    }
   ],
   "source": [
    "eq1.matrix[4]"
   ]
  },
  {
   "cell_type": "code",
   "execution_count": 19,
   "id": "laden-dollar",
   "metadata": {},
   "outputs": [
    {
     "data": {
      "text/plain": [
       "[<matplotlib.lines.Line2D at 0x11d37ee20>]"
      ]
     },
     "execution_count": 19,
     "metadata": {},
     "output_type": "execute_result"
    },
    {
     "data": {
      "image/png": "[encoded data removed]",
      "text/plain": [
       "<Figure size 432x288 with 1 Axes>"
      ]
     },
     "metadata": {
      "needs_background": "light"
     },
     "output_type": "display_data"
    }
   ],
   "source": [
    "fig1, ax1 = plt.subplots(1)\n",
    "x_range = [i*eq1.h for i in range(len(eq1.matrix[0]))]\n",
    "y_range = [eq1.matrix[0][j] for j in range(len(eq1.matrix[0]))]\n",
    "ax1.plot(x_range, y_range, color='r') \n",
    "x_range2 = [i*eq2.h for i in range(len(eq2.matrix[0]))]\n",
    "y_range2 = [eq2.matrix[0][j] for j in range(len(eq2.matrix[0]))]\n",
    "ax1.plot(x_range2, y_range2, color='g')"
   ]
  },
  {
   "cell_type": "code",
   "execution_count": 54,
   "id": "intelligent-collar",
   "metadata": {},
   "outputs": [
    {
     "name": "stdout",
     "output_type": "stream",
     "text": [
      "40\n"
     ]
    },
    {
     "ename": "IndexError",
     "evalue": "index 36 is out of bounds for axis 0 with size 36",
     "output_type": "error",
     "traceback": [
      "\u001b[0;31m---------------------------------------------------------------------------\u001b[0m",
      "\u001b[0;31mIndexError\u001b[0m                                Traceback (most recent call last)",
      "\u001b[0;32m<ipython-input-54-30deeffb2837>\u001b[0m in \u001b[0;36m<module>\u001b[0;34m\u001b[0m\n\u001b[1;32m      3\u001b[0m \u001b[0mx_range2\u001b[0m \u001b[0;34m=\u001b[0m \u001b[0;34m[\u001b[0m\u001b[0mi\u001b[0m\u001b[0;34m*\u001b[0m\u001b[0meq2\u001b[0m\u001b[0;34m.\u001b[0m\u001b[0mtau\u001b[0m \u001b[0;32mfor\u001b[0m \u001b[0mi\u001b[0m \u001b[0;32min\u001b[0m \u001b[0mrange\u001b[0m\u001b[0;34m(\u001b[0m\u001b[0mlen\u001b[0m\u001b[0;34m(\u001b[0m\u001b[0meq2\u001b[0m\u001b[0;34m.\u001b[0m\u001b[0mmatrix\u001b[0m\u001b[0;34m[\u001b[0m\u001b[0;36m0\u001b[0m\u001b[0;34m]\u001b[0m\u001b[0;34m)\u001b[0m\u001b[0;34m)\u001b[0m\u001b[0;34m]\u001b[0m\u001b[0;34m\u001b[0m\u001b[0;34m\u001b[0m\u001b[0m\n\u001b[1;32m      4\u001b[0m \u001b[0mprint\u001b[0m\u001b[0;34m(\u001b[0m\u001b[0mlen\u001b[0m\u001b[0;34m(\u001b[0m\u001b[0mx_range\u001b[0m\u001b[0;34m)\u001b[0m\u001b[0;34m)\u001b[0m\u001b[0;34m\u001b[0m\u001b[0;34m\u001b[0m\u001b[0m\n\u001b[0;32m----> 5\u001b[0;31m \u001b[0mprint\u001b[0m\u001b[0;34m(\u001b[0m\u001b[0;34m[\u001b[0m\u001b[0meq1\u001b[0m\u001b[0;34m.\u001b[0m\u001b[0mmatrix\u001b[0m\u001b[0;34m[\u001b[0m\u001b[0mj\u001b[0m\u001b[0;34m]\u001b[0m\u001b[0;34m[\u001b[0m\u001b[0;36m0\u001b[0m\u001b[0;34m]\u001b[0m \u001b[0;32mfor\u001b[0m \u001b[0mj\u001b[0m \u001b[0;32min\u001b[0m \u001b[0mrange\u001b[0m\u001b[0;34m(\u001b[0m\u001b[0mlen\u001b[0m\u001b[0;34m(\u001b[0m\u001b[0meq1\u001b[0m\u001b[0;34m.\u001b[0m\u001b[0mmatrix\u001b[0m\u001b[0;34m[\u001b[0m\u001b[0;36m0\u001b[0m\u001b[0;34m]\u001b[0m\u001b[0;34m)\u001b[0m\u001b[0;34m)\u001b[0m\u001b[0;34m]\u001b[0m\u001b[0;34m)\u001b[0m\u001b[0;34m\u001b[0m\u001b[0;34m\u001b[0m\u001b[0m\n\u001b[0m\u001b[1;32m      6\u001b[0m \u001b[0;31m#ax1.plot(x_range, [eq1.matrix[j][0] for j in range(len(eq1.matrix[0]))], color='r')\u001b[0m\u001b[0;34m\u001b[0m\u001b[0;34m\u001b[0m\u001b[0;34m\u001b[0m\u001b[0m\n\u001b[1;32m      7\u001b[0m \u001b[0;31m#ax1.plot( [j*eq1.h for j in range(len(eq1.matrix))], [eq1.matrix[j][10] for j in range(len(eq1.matrix))], color='g')\u001b[0m\u001b[0;34m\u001b[0m\u001b[0;34m\u001b[0m\u001b[0;34m\u001b[0m\u001b[0m\n",
      "\u001b[0;32m<ipython-input-54-30deeffb2837>\u001b[0m in \u001b[0;36m<listcomp>\u001b[0;34m(.0)\u001b[0m\n\u001b[1;32m      3\u001b[0m \u001b[0mx_range2\u001b[0m \u001b[0;34m=\u001b[0m \u001b[0;34m[\u001b[0m\u001b[0mi\u001b[0m\u001b[0;34m*\u001b[0m\u001b[0meq2\u001b[0m\u001b[0;34m.\u001b[0m\u001b[0mtau\u001b[0m \u001b[0;32mfor\u001b[0m \u001b[0mi\u001b[0m \u001b[0;32min\u001b[0m \u001b[0mrange\u001b[0m\u001b[0;34m(\u001b[0m\u001b[0mlen\u001b[0m\u001b[0;34m(\u001b[0m\u001b[0meq2\u001b[0m\u001b[0;34m.\u001b[0m\u001b[0mmatrix\u001b[0m\u001b[0;34m[\u001b[0m\u001b[0;36m0\u001b[0m\u001b[0;34m]\u001b[0m\u001b[0;34m)\u001b[0m\u001b[0;34m)\u001b[0m\u001b[0;34m]\u001b[0m\u001b[0;34m\u001b[0m\u001b[0;34m\u001b[0m\u001b[0m\n\u001b[1;32m      4\u001b[0m \u001b[0mprint\u001b[0m\u001b[0;34m(\u001b[0m\u001b[0mlen\u001b[0m\u001b[0;34m(\u001b[0m\u001b[0mx_range\u001b[0m\u001b[0;34m)\u001b[0m\u001b[0;34m)\u001b[0m\u001b[0;34m\u001b[0m\u001b[0;34m\u001b[0m\u001b[0m\n\u001b[0;32m----> 5\u001b[0;31m \u001b[0mprint\u001b[0m\u001b[0;34m(\u001b[0m\u001b[0;34m[\u001b[0m\u001b[0meq1\u001b[0m\u001b[0;34m.\u001b[0m\u001b[0mmatrix\u001b[0m\u001b[0;34m[\u001b[0m\u001b[0mj\u001b[0m\u001b[0;34m]\u001b[0m\u001b[0;34m[\u001b[0m\u001b[0;36m0\u001b[0m\u001b[0;34m]\u001b[0m \u001b[0;32mfor\u001b[0m \u001b[0mj\u001b[0m \u001b[0;32min\u001b[0m \u001b[0mrange\u001b[0m\u001b[0;34m(\u001b[0m\u001b[0mlen\u001b[0m\u001b[0;34m(\u001b[0m\u001b[0meq1\u001b[0m\u001b[0;34m.\u001b[0m\u001b[0mmatrix\u001b[0m\u001b[0;34m[\u001b[0m\u001b[0;36m0\u001b[0m\u001b[0;34m]\u001b[0m\u001b[0;34m)\u001b[0m\u001b[0;34m)\u001b[0m\u001b[0;34m]\u001b[0m\u001b[0;34m)\u001b[0m\u001b[0;34m\u001b[0m\u001b[0;34m\u001b[0m\u001b[0m\n\u001b[0m\u001b[1;32m      6\u001b[0m \u001b[0;31m#ax1.plot(x_range, [eq1.matrix[j][0] for j in range(len(eq1.matrix[0]))], color='r')\u001b[0m\u001b[0;34m\u001b[0m\u001b[0;34m\u001b[0m\u001b[0;34m\u001b[0m\u001b[0m\n\u001b[1;32m      7\u001b[0m \u001b[0;31m#ax1.plot( [j*eq1.h for j in range(len(eq1.matrix))], [eq1.matrix[j][10] for j in range(len(eq1.matrix))], color='g')\u001b[0m\u001b[0;34m\u001b[0m\u001b[0;34m\u001b[0m\u001b[0;34m\u001b[0m\u001b[0m\n",
      "\u001b[0;31mIndexError\u001b[0m: index 36 is out of bounds for axis 0 with size 36"
     ]
    },
    {
     "data": {
      "image/png": "[encoded data removed]",
      "text/plain": [
       "<Figure size 432x288 with 1 Axes>"
      ]
     },
     "metadata": {
      "needs_background": "light"
     },
     "output_type": "display_data"
    }
   ],
   "source": [
    "fig1, ax1 = plt.subplots(1)\n",
    "x_range = [i*eq1.hfor i in range(len(eq1.matrix[0]))]\n",
    "x_range2 = [i*eq2.tau for i in range(len(eq2.matrix[0]))]\n",
    "print(len(x_range))\n",
    "print(eq1.matrix[j][0])\n",
    "#print([eq1.matrix[j][0] for j in range(len(eq1.matrix[0]))])\n",
    "#ax1.plot(x_range, [eq1.matrix[j][0] for j in range(len(eq1.matrix[0]))], color='r') \n",
    "#ax1.plot( [j*eq1.h for j in range(len(eq1.matrix))], [eq1.matrix[j][10] for j in range(len(eq1.matrix))], color='g') \n",
    "#ax1.plot( x_range2, [eq2.matrix[j][0] for j in range(len(x_range2))], color='b') \n",
    "#ax1.plot( [j*eq2.h for j in range(len(eq2.matrix))], [eq2.matrix[j][10] for j in range(len(eq2.matrix))], color='m') "
   ]
  }
 ],
 "metadata": {
  "kernelspec": {
   "display_name": "Python 3",
   "language": "python",
   "name": "python3"
  },
  "language_info": {
   "codemirror_mode": {
    "name": "ipython",
    "version": 3
   },
   "file_extension": ".py",
   "mimetype": "text/x-python",
   "name": "python",
   "nbconvert_exporter": "python",
   "pygments_lexer": "ipython3",
   "version": "3.9.2"
  }
 },
 "nbformat": 4,
 "nbformat_minor": 5
}
