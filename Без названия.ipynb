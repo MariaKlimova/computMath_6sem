{
 "cells": [
  {
   "cell_type": "code",
   "execution_count": 10,
   "id": "sacred-elite",
   "metadata": {},
   "outputs": [],
   "source": [
    "import numpy as np\n",
    "import numpy.linalg as lg"
   ]
  },
  {
   "cell_type": "code",
   "execution_count": 23,
   "id": "hispanic-recommendation",
   "metadata": {},
   "outputs": [],
   "source": [
    "A = np.array([[1, 1, 0], [1, 2, 1], [0, 1, 2]])"
   ]
  },
  {
   "cell_type": "code",
   "execution_count": 21,
   "id": "serial-somewhere",
   "metadata": {},
   "outputs": [],
   "source": [
    "A0 = np.array([[1, 0, 0], [0, 2, 0], [0, 0, 2]])"
   ]
  },
  {
   "cell_type": "code",
   "execution_count": 13,
   "id": "legal-commons",
   "metadata": {
    "scrolled": true
   },
   "outputs": [],
   "source": [
    "A1 = lg.inv(A)"
   ]
  },
  {
   "cell_type": "code",
   "execution_count": 14,
   "id": "designing-heading",
   "metadata": {},
   "outputs": [],
   "source": [
    "B = np.array([[0, 1, 0], [1, 0, 1], [0, 1, 0]])"
   ]
  },
  {
   "cell_type": "code",
   "execution_count": 15,
   "id": "according-violence",
   "metadata": {},
   "outputs": [
    {
     "data": {
      "text/plain": [
       "array([[0. , 1. , 0. ],\n",
       "       [0.5, 0. , 0.5],\n",
       "       [0. , 0.5, 0. ]])"
      ]
     },
     "execution_count": 15,
     "metadata": {},
     "output_type": "execute_result"
    }
   ],
   "source": [
    "A1.dot(B)"
   ]
  },
  {
   "cell_type": "code",
   "execution_count": 16,
   "id": "intellectual-prospect",
   "metadata": {},
   "outputs": [
    {
     "data": {
      "text/plain": [
       "array([2. , 2. , 1.5])"
      ]
     },
     "execution_count": 16,
     "metadata": {},
     "output_type": "execute_result"
    }
   ],
   "source": [
    "A1.dot(np.array([2, 4, 3]))"
   ]
  },
  {
   "cell_type": "code",
   "execution_count": 24,
   "id": "beneficial-tracy",
   "metadata": {},
   "outputs": [
    {
     "data": {
      "text/plain": [
       "array([3.2469796 , 0.19806226, 1.55495813])"
      ]
     },
     "execution_count": 24,
     "metadata": {},
     "output_type": "execute_result"
    }
   ],
   "source": [
    "lg.eigvals(A)"
   ]
  },
  {
   "cell_type": "code",
   "execution_count": null,
   "id": "important-birth",
   "metadata": {},
   "outputs": [],
   "source": []
  }
 ],
 "metadata": {
  "kernelspec": {
   "display_name": "Python 3",
   "language": "python",
   "name": "python3"
  },
  "language_info": {
   "codemirror_mode": {
    "name": "ipython",
    "version": 3
   },
   "file_extension": ".py",
   "mimetype": "text/x-python",
   "name": "python",
   "nbconvert_exporter": "python",
   "pygments_lexer": "ipython3",
   "version": "3.9.2"
  }
 },
 "nbformat": 4,
 "nbformat_minor": 5
}
