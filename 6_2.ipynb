{
 "cells": [
  {
   "cell_type": "code",
   "execution_count": null,
   "id": "computational-installation",
   "metadata": {},
   "outputs": [],
   "source": []
  },
  {
   "cell_type": "code",
   "execution_count": 1,
   "id": "agreed-renaissance",
   "metadata": {},
   "outputs": [],
   "source": [
    "import numpy as np"
   ]
  },
  {
   "cell_type": "code",
   "execution_count": 2,
   "id": "periodic-simpson",
   "metadata": {},
   "outputs": [],
   "source": [
    "import numpy.linalg as linalg"
   ]
  },
  {
   "cell_type": "code",
   "execution_count": 27,
   "id": "premier-printing",
   "metadata": {},
   "outputs": [],
   "source": [
    "class Riemann:\n",
    "    def __init__(self, L=10, gamma = 5/3, v_l = 0, v_r = 0, ro_l = 1.3, ro_r = 13, p_l = 10, p_r = 1, T = 0.2):\n",
    "        self.L = L\n",
    "        self.gamma = gamma\n",
    "        self.v_l = v_l\n",
    "        self.v_r = v_r\n",
    "        self.ro_l = ro_l\n",
    "        self.ro_r = ro_r\n",
    "        self.p_l = p_l*1e5\n",
    "        self.p_r = p_r*1e5\n",
    "        self.T = T\n",
    "        self.w0_l = [self.ro_l, self.ro_l*self.v_l, self.p_l/(self.gamma - 1)]\n",
    "        self.w0_r = [self.ro_r, self.ro_r*self.v_r, self.p_r/(self.gamma - 1)]\n",
    "        self.cfl_max = 0.01 \n",
    "        self.tau = 1e-7\n",
    "        self.h = 0.1\n",
    "    def generate_grid(self):\n",
    "        self.matrix = np.zeros([int(self.T/self.tau), int(self.L/self.h), 3])\n",
    "        self.omegas_T = np.zeros([int(self.T/self.tau), int(self.L/self.h), 3, 3])\n",
    "        self.omegas_T_inv = np.zeros([int(self.T/self.tau), int(self.L/self.h), 3, 3])\n",
    "        self.As = np.zeros([int(self.T/self.tau), int(self.L/self.h), 3, 3])\n",
    "        self.Ls  = np.zeros([int(self.T/self.tau), int(self.L/self.h), 3, 3])\n",
    "        self.L_mods  = np.zeros([int(self.T/self.tau), int(self.L/self.h), 3, 3])\n",
    "    def calculate(self):\n",
    "        for i in range(int(self.T/self.tau)):\n",
    "            self.count_layer(i)\n",
    "    def initials(self):\n",
    "        for i in range(int(self.L/self.h)):\n",
    "            if (i < int(self.L/self.h) / 2):\n",
    "                self.matrix[0, i] = self.w0_l\n",
    "            else:\n",
    "                self.matrix[0, i] = self.w0_r\n",
    "    def count_layer(self, n):\n",
    "        print(f'layer {n} out of {int(self.T/self.tau)}')\n",
    "        for i in range(int(self.L/self.h)):\n",
    "            if (n == 0):\n",
    "                pass\n",
    "#                 if (i < int(self.L/self.h)):\n",
    "#                     self.matrix[n, i] = self.w0_l\n",
    "#                 else:\n",
    "#                     self.matrix[n, i] = self.w0_r\n",
    "            else:\n",
    "                #print('not 0')\n",
    "                if (i == 0 or i == int(self.L/self.h) - 1) or (n == 0 or n == int(self.T/self.tau) - 1):\n",
    "                    self.matrix[n, i] = self.matrix[0][i]\n",
    "                else:\n",
    "                    a = self.matrix[n-1, i]\n",
    "                    b_0 = (self.matrix[n-1, i + 1] - self.matrix[n-1, i - 1])/(2*self.h)\n",
    "                    #print('1', self.matrix[n-1, i + 1])\n",
    "                    #print('2', self.matrix[n-1, i - 1])\n",
    "                    #print(b_0)\n",
    "                    b = self.tau * np.matmul(self.As[n - 1, i], b_0)\n",
    "                    c_0 = (self.matrix[n-1, i + 1] - self.matrix[n-1, i - 1] + 2*self.matrix[n - 1, i])/(2*self.h)\n",
    "                    c1 = np.matmul(self.omegas_T_inv[n -1, i], self.L_mods[n -1, i])\n",
    "                    c2 = np.matmul(c1,self.omegas_T[n -1, i])\n",
    "                    cf = self.tau*np.matmul(c2, c_0)\n",
    "                    self.matrix[n, i] = a - b + cf\n",
    "            #print(self.matrix[n, i])\n",
    "            cur_w = self.matrix[n , i]\n",
    "            cur_u = cur_w[1]/cur_w[0]\n",
    "            cur_e = cur_w[2]/cur_w[0]\n",
    "            #print(cur_e)\n",
    "            c = (cur_e*self.gamma*(self.gamma - 1))**(0.5)\n",
    "\n",
    "            self.omegas_T[n, i] = [[cur_u , c, self.gamma - 1], [-c**2 , 0, self.gamma - 1], [cur_u*c , -c, self.gamma - 1]]\n",
    "            self.omegas_T_inv[n, i] = linalg.inv(self.omegas_T[n, i])\n",
    "            self.As[n, i] = [[0, 1, 0], [-cur_u**2, 2*cur_u, self.gamma - 1], [-cur_u*cur_e*self.gamma, cur_e*self.gamma, cur_u]]\n",
    "            lambdas = linalg.eigvals(self.As[n, i])\n",
    "            self.Ls[n, i] = [[lambdas[0], 0, 0],[0, lambdas[1], 0],[0, 0, lambdas[2]]]\n",
    "            self.L_mods[n, i] = [[np.abs(lambdas[0]), 0, 0],[0, np.abs(lambdas[1]), 0],[0, 0, np.abs(lambdas[2])]]\n",
    "            CFL = self.tau/self.h*max([np.abs(l) for l in lambdas])\n",
    "            if (CFL > 1):\n",
    "                print('cfl', CFL)\n",
    "                print('CFL should be corrected')\n",
    "                \n",
    "   "
   ]
  },
  {
   "cell_type": "code",
   "execution_count": 31,
   "id": "straight-marriage",
   "metadata": {},
   "outputs": [],
   "source": [
    "layer = [np.zeros(int(10/0.1)), 3]"
   ]
  },
  {
   "cell_type": "code",
   "execution_count": 32,
   "id": "under-simple",
   "metadata": {},
   "outputs": [
    {
     "data": {
      "text/plain": [
       "[array([0., 0., 0., 0., 0., 0., 0., 0., 0., 0., 0., 0., 0., 0., 0., 0., 0.,\n",
       "        0., 0., 0., 0., 0., 0., 0., 0., 0., 0., 0., 0., 0., 0., 0., 0., 0.,\n",
       "        0., 0., 0., 0., 0., 0., 0., 0., 0., 0., 0., 0., 0., 0., 0., 0., 0.,\n",
       "        0., 0., 0., 0., 0., 0., 0., 0., 0., 0., 0., 0., 0., 0., 0., 0., 0.,\n",
       "        0., 0., 0., 0., 0., 0., 0., 0., 0., 0., 0., 0., 0., 0., 0., 0., 0.,\n",
       "        0., 0., 0., 0., 0., 0., 0., 0., 0., 0., 0., 0., 0., 0., 0.]),\n",
       " 3]"
      ]
     },
     "execution_count": 32,
     "metadata": {},
     "output_type": "execute_result"
    }
   ],
   "source": [
    "layer"
   ]
  },
  {
   "cell_type": "code",
   "execution_count": 27,
   "id": "massive-rotation",
   "metadata": {},
   "outputs": [
    {
     "ename": "IndexError",
     "evalue": "list assignment index out of range",
     "output_type": "error",
     "traceback": [
      "\u001b[0;31m---------------------------------------------------------------------------\u001b[0m",
      "\u001b[0;31mIndexError\u001b[0m                                Traceback (most recent call last)",
      "\u001b[0;32m<ipython-input-27-fba7a99b4f49>\u001b[0m in \u001b[0;36m<module>\u001b[0;34m\u001b[0m\n\u001b[1;32m      2\u001b[0m \u001b[0;34m\u001b[0m\u001b[0m\n\u001b[1;32m      3\u001b[0m             \u001b[0;32mif\u001b[0m \u001b[0;34m(\u001b[0m\u001b[0mi\u001b[0m \u001b[0;34m<\u001b[0m \u001b[0mint\u001b[0m\u001b[0;34m(\u001b[0m\u001b[0;36m10\u001b[0m\u001b[0;34m/\u001b[0m\u001b[0;36m0.1\u001b[0m\u001b[0;34m)\u001b[0m \u001b[0;34m/\u001b[0m \u001b[0;36m2\u001b[0m\u001b[0;34m)\u001b[0m\u001b[0;34m:\u001b[0m\u001b[0;34m\u001b[0m\u001b[0;34m\u001b[0m\u001b[0m\n\u001b[0;32m----> 4\u001b[0;31m                 \u001b[0mlayer\u001b[0m\u001b[0;34m[\u001b[0m\u001b[0mi\u001b[0m\u001b[0;34m]\u001b[0m \u001b[0;34m=\u001b[0m \u001b[0;34m[\u001b[0m\u001b[0;36m0\u001b[0m\u001b[0;34m,\u001b[0m \u001b[0;36m0\u001b[0m\u001b[0;34m,\u001b[0m \u001b[0;36m1\u001b[0m\u001b[0;34m]\u001b[0m\u001b[0;34m\u001b[0m\u001b[0;34m\u001b[0m\u001b[0m\n\u001b[0m\u001b[1;32m      5\u001b[0m             \u001b[0;32melse\u001b[0m\u001b[0;34m:\u001b[0m\u001b[0;34m\u001b[0m\u001b[0;34m\u001b[0m\u001b[0m\n\u001b[1;32m      6\u001b[0m                 \u001b[0mlayer\u001b[0m\u001b[0;34m[\u001b[0m\u001b[0mi\u001b[0m\u001b[0;34m]\u001b[0m \u001b[0;34m=\u001b[0m \u001b[0;34m[\u001b[0m\u001b[0;36m2\u001b[0m\u001b[0;34m,\u001b[0m \u001b[0;36m4\u001b[0m\u001b[0;34m,\u001b[0m \u001b[0;36m5\u001b[0m\u001b[0;34m]\u001b[0m\u001b[0;34m\u001b[0m\u001b[0;34m\u001b[0m\u001b[0m\n",
      "\u001b[0;31mIndexError\u001b[0m: list assignment index out of range"
     ]
    }
   ],
   "source": [
    "for i in range(int(10/0.1)):\n",
    "            \n",
    "            if (i < int(10/0.1) / 2):\n",
    "                layer[i] = [0, 0, 1]\n",
    "            else:\n",
    "                layer[i] = [2, 4, 5]"
   ]
  },
  {
   "cell_type": "code",
   "execution_count": 30,
   "id": "plain-longer",
   "metadata": {},
   "outputs": [],
   "source": [
    "class Riemann2:\n",
    "    def __init__(self, L=10, gamma = 5/3, v_l = 0, v_r = 0, ro_l = 13, ro_r = 1.3, p_l = 10, p_r = 1, T = 0.015):\n",
    "        self.L = L\n",
    "        self.gamma = gamma\n",
    "        self.v_l = v_l\n",
    "        self.v_r = v_r\n",
    "        self.ro_l = ro_l\n",
    "        self.ro_r = ro_r\n",
    "        self.p_l = p_l*1e5\n",
    "        self.p_r = p_r*1e5\n",
    "        self.T = T\n",
    "        self.w0_l = [self.ro_l, self.ro_l*self.v_l, self.p_l/(self.gamma - 1)]\n",
    "        self.w0_r = [self.ro_r, self.ro_r*self.v_r, self.p_r/(self.gamma - 1)]\n",
    "        self.cfl_max = 0.01 \n",
    "        self.tau = 1e-7\n",
    "        self.h = 0.1\n",
    "    def calculate(self):\n",
    "        self.initials()\n",
    "        time = 0\n",
    "        layer_number = 0\n",
    "        while (time < self.T):\n",
    "            time += self.tau\n",
    "            layer_number += 1\n",
    "            self.count_layer(layer_number)\n",
    "    def initials(self):\n",
    "        self.matrix = []\n",
    "        layer = np.zeros([int(self.L/self.h), 3])\n",
    "        omegas_T = np.zeros([int(self.L/self.h), 3, 3])\n",
    "        omegas_T_inv = np.zeros([int(self.L/self.h), 3, 3])\n",
    "        As = np.zeros([int(self.L/self.h), 3, 3])\n",
    "        Ls = np.zeros([int(self.L/self.h), 3, 3])\n",
    "        L_mods = np.zeros([int(self.L/self.h), 3, 3])\n",
    "        \n",
    "        for i in range(int(self.L/self.h)):\n",
    "            \n",
    "            if (i < int(self.L/self.h) / 2):\n",
    "                layer[i] = self.w0_l\n",
    "            else:\n",
    "                layer[i] = self.w0_r\n",
    "                \n",
    "            cur_w = layer[i]\n",
    "            cur_u = cur_w[1]/cur_w[0]\n",
    "            cur_e = cur_w[2]/cur_w[0]\n",
    "            #print(cur_e)\n",
    "            c = (cur_e*self.gamma*(self.gamma - 1))**(0.5)\n",
    "\n",
    "\n",
    "            omegas_T[i] = [[cur_u , c, self.gamma - 1], [-c**2 , 0, self.gamma - 1], [cur_u*c , -c, self.gamma - 1]]\n",
    "            omegas_T_inv[i] = linalg.inv(omegas_T[i])\n",
    "            As[i] = [[0, 1, 0], [-cur_u**2, 2*cur_u, self.gamma - 1], [-cur_u*cur_e*self.gamma, cur_e*self.gamma, cur_u]]\n",
    "            lambdas = linalg.eigvals(As[i])\n",
    "            Ls[i] = [[lambdas[0], 0, 0],[0, lambdas[1], 0],[0, 0, lambdas[2]]]\n",
    "            L_mods[i] = [[np.abs(lambdas[0]), 0, 0],[0, np.abs(lambdas[1]), 0],[0, 0, np.abs(lambdas[2])]]\n",
    "            \n",
    "        self.matrix.append(layer)\n",
    "        self.omegas_T = omegas_T\n",
    "        self.omegas_T_inv = omegas_T_inv\n",
    "        self.As = As\n",
    "        self.Ls = Ls\n",
    "        self.L_mods = L_mods\n",
    "        \n",
    "        CFL = self.tau/self.h*max([np.abs(l) for l in lambdas])\n",
    "        while (CFL >= 1):\n",
    "            self.tau = self.tau/10\n",
    "            CFL = self.tau/self.h*max([np.abs(l) for l in lambdas])\n",
    "    \n",
    "    def count_layer(self, n):\n",
    "        #print('layer ', n)\n",
    "        layer = np.zeros([int(self.L/self.h), 3])\n",
    "        omegas_T = np.zeros([int(self.L/self.h), 3, 3])\n",
    "        omegas_T_inv = np.zeros([int(self.L/self.h), 3, 3])\n",
    "        As = np.zeros([int(self.L/self.h), 3, 3])\n",
    "        Ls = np.zeros([int(self.L/self.h), 3, 3])\n",
    "        L_mods = np.zeros([int(self.L/self.h), 3, 3])\n",
    "        for i in range(int(self.L/self.h)):\n",
    "            if (i != 0) and (i != int(self.L/self.h) - 1):\n",
    "                a = self.matrix[n-1][i]\n",
    "                b_0 = (self.matrix[n-1][i + 1] - self.matrix[n-1][i - 1])/(2*self.h)\n",
    "                b = self.tau * np.matmul(self.As[i], b_0)\n",
    "                c_0 = (self.matrix[n-1][i + 1] + self.matrix[n-1][i - 1] - 2*self.matrix[n - 1][i])/(2*self.h)\n",
    "                c1 = np.matmul(self.omegas_T_inv[i], self.L_mods[i])\n",
    "                c2 = np.matmul(c1,self.omegas_T[i])\n",
    "                cf = self.tau*np.matmul(c2, c_0)\n",
    "                layer[i] = a - b + cf\n",
    "        \n",
    "        layer[0] = layer[1]\n",
    "        layer[int(self.L/self.h) - 1] = layer[int(self.L/self.h) - 2]\n",
    "        self.matrix.append(layer)\n",
    "        for i in range(int(self.L/self.h)):\n",
    "            cur_w = self.matrix[n][i]\n",
    "            cur_u = cur_w[1]/cur_w[0]\n",
    "            cur_e = cur_w[2]/cur_w[0]\n",
    "            #print(cur_e)\n",
    "            c = (cur_e*self.gamma*(self.gamma - 1))**(0.5)\n",
    "            omegas_T[i] = [[-cur_u*c , c, self.gamma - 1], [-c**2 , 0, self.gamma - 1], [cur_u*c , -c, self.gamma - 1]]\n",
    "            omegas_T_inv[i] = linalg.inv(omegas_T[i])\n",
    "            As[i] = [[0, 1, 0], [-cur_u**2, 2*cur_u, self.gamma - 1], [-cur_u*cur_e*self.gamma, cur_e*self.gamma, cur_u]]\n",
    "            lambdas = linalg.eigvals(As[i])\n",
    "            Ls[i] = [[lambdas[0], 0, 0],[0, lambdas[1], 0],[0, 0, lambdas[2]]]\n",
    "            L_mods[i] = [[np.abs(lambdas[0]), 0, 0],[0, np.abs(lambdas[1]), 0],[0, 0, np.abs(lambdas[2])]]\n",
    "            \n",
    "        self.matrix.append(layer)\n",
    "        self.omegas_T = omegas_T\n",
    "        self.omegas_T_inv = omegas_T_inv\n",
    "        self.As = As\n",
    "        self.Ls = Ls\n",
    "        self.L_mods = L_mods\n",
    "        CFL = self.tau/self.h*max([np.abs(l) for l in lambdas])\n",
    "        while (CFL >= 1):\n",
    "            self.tau = self.tau/10\n",
    "            CFL = self.tau/self.h*max([np.abs(l) for l in lambdas])\n",
    "        "
   ]
  },
  {
   "cell_type": "code",
   "execution_count": null,
   "id": "accepted-arcade",
   "metadata": {},
   "outputs": [],
   "source": [
    "#v - это не скорость\n",
    "#генерировать заново каждый слой\n",
    "# граничные условия - 0 = 1, n-1 = n"
   ]
  },
  {
   "cell_type": "code",
   "execution_count": 32,
   "id": "registered-queens",
   "metadata": {},
   "outputs": [],
   "source": [
    "rm = Riemann2()\n",
    "rm.calculate()"
   ]
  },
  {
   "cell_type": "code",
   "execution_count": 6,
   "id": "nuclear-certificate",
   "metadata": {},
   "outputs": [],
   "source": [
    "data = [rm.matrix[20][i][0] for i in range(len(rm.matrix[400]))]"
   ]
  },
  {
   "cell_type": "code",
   "execution_count": 19,
   "id": "seventh-hotel",
   "metadata": {},
   "outputs": [
    {
     "data": {
      "text/plain": [
       "4003"
      ]
     },
     "execution_count": 19,
     "metadata": {},
     "output_type": "execute_result"
    }
   ],
   "source": [
    "len(rm.matrix)"
   ]
  },
  {
   "cell_type": "code",
   "execution_count": 7,
   "id": "infrared-article",
   "metadata": {},
   "outputs": [],
   "source": [
    "import matplotlib.pyplot as plt"
   ]
  },
  {
   "cell_type": "code",
   "execution_count": 22,
   "id": "younger-burns",
   "metadata": {},
   "outputs": [
    {
     "data": {
      "text/plain": [
       "<matplotlib.collections.PathCollection at 0x11831a490>"
      ]
     },
     "execution_count": 22,
     "metadata": {},
     "output_type": "execute_result"
    },
    {
     "data": {
      "image/png": "[encoded data removed]",
      "text/plain": [
       "<Figure size 432x288 with 1 Axes>"
      ]
     },
     "metadata": {
      "needs_background": "light"
     },
     "output_type": "display_data"
    }
   ],
   "source": [
    "data = [rm.matrix[4000][i][0] for i in range(len(rm.matrix[3000]))]\n",
    "x_data = [i for i in range(len(rm.matrix[3000]))]\n",
    "fig1, ax1 = plt.subplots(1)\n",
    "plt.title('density')\n",
    "ax1.scatter(x_data, data, color='r', linewidths=0.01 ) "
   ]
  },
  {
   "cell_type": "code",
   "execution_count": 23,
   "id": "lyric-clause",
   "metadata": {},
   "outputs": [
    {
     "data": {
      "text/plain": [
       "<matplotlib.collections.PathCollection at 0x117ec7760>"
      ]
     },
     "execution_count": 23,
     "metadata": {},
     "output_type": "execute_result"
    },
    {
     "data": {
      "image/png": "[encoded data removed]",
      "text/plain": [
       "<Figure size 432x288 with 1 Axes>"
      ]
     },
     "metadata": {
      "needs_background": "light"
     },
     "output_type": "display_data"
    }
   ],
   "source": [
    "data = [rm.matrix[400][i][1]/rm.matrix[400][i][0] for i in range(len(rm.matrix[400]))]\n",
    "x_data = [i for i in range(len(rm.matrix[400]))]\n",
    "fig1, ax1 = plt.subplots(1)\n",
    "plt.title('u')\n",
    "ax1.scatter(x_data, data, color='r', linewidths=0.01 ) "
   ]
  },
  {
   "cell_type": "code",
   "execution_count": 24,
   "id": "collect-serum",
   "metadata": {},
   "outputs": [
    {
     "data": {
      "text/plain": [
       "<matplotlib.collections.PathCollection at 0x118225220>"
      ]
     },
     "execution_count": 24,
     "metadata": {},
     "output_type": "execute_result"
    },
    {
     "data": {
      "image/png": "[encoded data removed]",
      "text/plain": [
       "<Figure size 432x288 with 1 Axes>"
      ]
     },
     "metadata": {
      "needs_background": "light"
     },
     "output_type": "display_data"
    }
   ],
   "source": [
    "data = [rm.matrix[3000][i][2]/rm.matrix[3000][i][0] for i in range(len(rm.matrix[3000]))]\n",
    "x_data = [i for i in range(len(rm.matrix[3000]))]\n",
    "fig1, ax1 = plt.subplots(1)\n",
    "plt.title('e')\n",
    "ax1.scatter(x_data, data, color='r', linewidths=0.01 ) "
   ]
  },
  {
   "cell_type": "code",
   "execution_count": 25,
   "id": "center-brook",
   "metadata": {},
   "outputs": [
    {
     "data": {
      "text/plain": [
       "<matplotlib.collections.PathCollection at 0x118525340>"
      ]
     },
     "execution_count": 25,
     "metadata": {},
     "output_type": "execute_result"
    },
    {
     "data": {
      "image/png": "[encoded data removed]",
      "text/plain": [
       "<Figure size 432x288 with 1 Axes>"
      ]
     },
     "metadata": {
      "needs_background": "light"
     },
     "output_type": "display_data"
    }
   ],
   "source": [
    "data = [rm.matrix[400][i][2]*(rm.gamma - 1) for i in range(len(rm.matrix[400]))]\n",
    "x_data = [i for i in range(len(rm.matrix[400]))]\n",
    "fig1, ax1 = plt.subplots(1)\n",
    "plt.title('density')\n",
    "ax1.scatter(x_data, data, color='r', linewidths=0.01 ) "
   ]
  }
 ],
 "metadata": {
  "kernelspec": {
   "display_name": "Python 3",
   "language": "python",
   "name": "python3"
  },
  "language_info": {
   "codemirror_mode": {
    "name": "ipython",
    "version": 3
   },
   "file_extension": ".py",
   "mimetype": "text/x-python",
   "name": "python",
   "nbconvert_exporter": "python",
   "pygments_lexer": "ipython3",
   "version": "3.9.2"
  }
 },
 "nbformat": 4,
 "nbformat_minor": 5
}
