{
 "cells": [
  {
   "cell_type": "code",
   "execution_count": 2,
   "metadata": {},
   "outputs": [],
   "source": [
    "import pandas as pd\n",
    "import numpy as np\n",
    "import matplotlib.pyplot as plt\n",
    "import numpy.linalg as lg"
   ]
  },
  {
   "cell_type": "code",
   "execution_count": 45,
   "metadata": {},
   "outputs": [],
   "source": [
    "class Zeidel:\n",
    "    def __init__(self,A,f):\n",
    "        self.A = A\n",
    "        self.f = f\n",
    "        self.x = x\n",
    "        self.D = np.zeros(A.shape)\n",
    "        self.L = np.zeros(A.shape)\n",
    "        self.U = np.zeros(A.shape)\n",
    "        i = 0\n",
    "        j = 0\n",
    "        while i < len(A.T[0]):\n",
    "            j = 0\n",
    "            while j < len(A[0]):\n",
    "                if i == j:\n",
    "                    self.D[i][j] = A[i][j]\n",
    "                elif i < j:\n",
    "                    self.U[i][j] = A[i][j]\n",
    "                else:\n",
    "                    self.L[i][j] = A[i][j]\n",
    "                j+=1\n",
    "            i+=1\n",
    "        \n",
    "    def nextx(self,x):\n",
    "        return (np.dot(np.dot(lg.inv(self.L+self.D), self.U), x) + np.dot(lg.inv(self.L+self.D), self.f))"
   ]
  },
  {
   "cell_type": "code",
   "execution_count": 46,
   "metadata": {},
   "outputs": [],
   "source": [
    "A = np.array([[2,3,0], [3,5,0], [1,2,4]])\n",
    "f = np.array([1,2,5])\n",
    "x = np.array([0,0,0])"
   ]
  },
  {
   "cell_type": "code",
   "execution_count": 47,
   "metadata": {},
   "outputs": [],
   "source": [
    "z = Zeidel(A,f)"
   ]
  },
  {
   "cell_type": "code",
   "execution_count": 48,
   "metadata": {},
   "outputs": [
    {
     "data": {
      "text/plain": [
       "array([0.5  , 0.1  , 1.075])"
      ]
     },
     "execution_count": 48,
     "metadata": {},
     "output_type": "execute_result"
    }
   ],
   "source": [
    "z.nextx(x)"
   ]
  },
  {
   "cell_type": "code",
   "execution_count": null,
   "metadata": {},
   "outputs": [],
   "source": []
  }
 ],
 "metadata": {
  "kernelspec": {
   "display_name": "Python 3",
   "language": "python",
   "name": "python3"
  },
  "language_info": {
   "codemirror_mode": {
    "name": "ipython",
    "version": 3
   },
   "file_extension": ".py",
   "mimetype": "text/x-python",
   "name": "python",
   "nbconvert_exporter": "python",
   "pygments_lexer": "ipython3",
   "version": "3.9.2"
  }
 },
 "nbformat": 4,
 "nbformat_minor": 4
}
